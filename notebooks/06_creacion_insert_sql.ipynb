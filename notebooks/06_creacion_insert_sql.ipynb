{
 "cells": [
  {
   "cell_type": "code",
   "execution_count": 1,
   "metadata": {},
   "outputs": [
    {
     "data": {
      "text/plain": [
       "True"
      ]
     },
     "execution_count": 1,
     "metadata": {},
     "output_type": "execute_result"
    }
   ],
   "source": [
    "import pandas as pd # type: ignore\n",
    "import os\n",
    "import psycopg2 # type: ignore\n",
    "from dotenv import load_dotenv # type: ignore\n",
    "\n",
    "import sys\n",
    "sys.path.append(\"../\")\n",
    "from src import conexion_bd as con\n",
    "from src import creacion_tablas as cre\n",
    "\n",
    "load_dotenv()"
   ]
  },
  {
   "cell_type": "code",
   "execution_count": 2,
   "metadata": {},
   "outputs": [],
   "source": [
    "user = os.getenv(\"DB_USER\")\n",
    "password = os.getenv(\"DB_PASSWORD\")\n",
    "host = os.getenv(\"DB_HOST\")\n",
    "port = os.getenv(\"DB_PORT\")\n",
    "database = os.getenv(\"DB_NAME\")"
   ]
  },
  {
   "cell_type": "code",
   "execution_count": 3,
   "metadata": {},
   "outputs": [],
   "source": [
    "df_all_data_filmaffinity= pd.read_csv(\"../data/all_data_filmaffinity.csv\", index_col = 0)\n",
    "df_all_data_imdb= pd.read_csv(\"../data/all_data_imdb.csv\", index_col = 0)"
   ]
  },
  {
   "cell_type": "code",
   "execution_count": 4,
   "metadata": {},
   "outputs": [
    {
     "data": {
      "text/html": [
       "<div>\n",
       "<style scoped>\n",
       "    .dataframe tbody tr th:only-of-type {\n",
       "        vertical-align: middle;\n",
       "    }\n",
       "\n",
       "    .dataframe tbody tr th {\n",
       "        vertical-align: top;\n",
       "    }\n",
       "\n",
       "    .dataframe thead th {\n",
       "        text-align: right;\n",
       "    }\n",
       "</style>\n",
       "<table border=\"1\" class=\"dataframe\">\n",
       "  <thead>\n",
       "    <tr style=\"text-align: right;\">\n",
       "      <th></th>\n",
       "      <th>title</th>\n",
       "      <th>year</th>\n",
       "      <th>rating_x</th>\n",
       "      <th>rating_y</th>\n",
       "      <th>releaseYear_x</th>\n",
       "      <th>imdbId</th>\n",
       "      <th>releaseYear_y</th>\n",
       "      <th>list_plataform</th>\n",
       "    </tr>\n",
       "  </thead>\n",
       "  <tbody>\n",
       "    <tr>\n",
       "      <th>0</th>\n",
       "      <td>The Godfather</td>\n",
       "      <td>1972</td>\n",
       "      <td>9.0</td>\n",
       "      <td>4.39</td>\n",
       "      <td>1972.0</td>\n",
       "      <td>tt0068646</td>\n",
       "      <td>1972.0</td>\n",
       "      <td>['Prime Video', 'Netflix']</td>\n",
       "    </tr>\n",
       "    <tr>\n",
       "      <th>1</th>\n",
       "      <td>The Godfather: Part II</td>\n",
       "      <td>1974</td>\n",
       "      <td>8.9</td>\n",
       "      <td>3.92</td>\n",
       "      <td>0.0</td>\n",
       "      <td>tt0000000</td>\n",
       "      <td>0.0</td>\n",
       "      <td>NaN</td>\n",
       "    </tr>\n",
       "    <tr>\n",
       "      <th>2</th>\n",
       "      <td>The Shawshank Redemption</td>\n",
       "      <td>1994</td>\n",
       "      <td>8.6</td>\n",
       "      <td>4.48</td>\n",
       "      <td>1994.0</td>\n",
       "      <td>tt0111161</td>\n",
       "      <td>1994.0</td>\n",
       "      <td>['Netflix']</td>\n",
       "    </tr>\n",
       "    <tr>\n",
       "      <th>3</th>\n",
       "      <td>Witness for the Prosecution</td>\n",
       "      <td>1957</td>\n",
       "      <td>8.6</td>\n",
       "      <td>4.07</td>\n",
       "      <td>1957.0</td>\n",
       "      <td>tt0051201</td>\n",
       "      <td>1957.0</td>\n",
       "      <td>['Apple TV']</td>\n",
       "    </tr>\n",
       "    <tr>\n",
       "      <th>4</th>\n",
       "      <td>Schindler's List</td>\n",
       "      <td>1993</td>\n",
       "      <td>8.6</td>\n",
       "      <td>4.34</td>\n",
       "      <td>1993.0</td>\n",
       "      <td>tt0108052</td>\n",
       "      <td>1993.0</td>\n",
       "      <td>['Apple TV', 'Netflix']</td>\n",
       "    </tr>\n",
       "  </tbody>\n",
       "</table>\n",
       "</div>"
      ],
      "text/plain": [
       "                         title  year  rating_x rating_y  releaseYear_x  \\\n",
       "0                The Godfather  1972       9.0     4.39         1972.0   \n",
       "1       The Godfather: Part II  1974       8.9     3.92            0.0   \n",
       "2     The Shawshank Redemption  1994       8.6     4.48         1994.0   \n",
       "3  Witness for the Prosecution  1957       8.6     4.07         1957.0   \n",
       "4             Schindler's List  1993       8.6     4.34         1993.0   \n",
       "\n",
       "      imdbId  releaseYear_y              list_plataform  \n",
       "0  tt0068646         1972.0  ['Prime Video', 'Netflix']  \n",
       "1  tt0000000            0.0                         NaN  \n",
       "2  tt0111161         1994.0                 ['Netflix']  \n",
       "3  tt0051201         1957.0                ['Apple TV']  \n",
       "4  tt0108052         1993.0     ['Apple TV', 'Netflix']  "
      ]
     },
     "metadata": {},
     "output_type": "display_data"
    },
    {
     "data": {
      "text/plain": [
       "99"
      ]
     },
     "metadata": {},
     "output_type": "display_data"
    }
   ],
   "source": [
    "display(df_all_data_filmaffinity.head())\n",
    "display(df_all_data_filmaffinity.shape[0])"
   ]
  },
  {
   "cell_type": "code",
   "execution_count": 5,
   "metadata": {},
   "outputs": [
    {
     "data": {
      "text/html": [
       "<div>\n",
       "<style scoped>\n",
       "    .dataframe tbody tr th:only-of-type {\n",
       "        vertical-align: middle;\n",
       "    }\n",
       "\n",
       "    .dataframe tbody tr th {\n",
       "        vertical-align: top;\n",
       "    }\n",
       "\n",
       "    .dataframe thead th {\n",
       "        text-align: right;\n",
       "    }\n",
       "</style>\n",
       "<table border=\"1\" class=\"dataframe\">\n",
       "  <thead>\n",
       "    <tr style=\"text-align: right;\">\n",
       "      <th></th>\n",
       "      <th>title</th>\n",
       "      <th>year</th>\n",
       "      <th>duration</th>\n",
       "      <th>rating_x</th>\n",
       "      <th>votes</th>\n",
       "      <th>rating_y</th>\n",
       "      <th>releaseYear_x</th>\n",
       "      <th>imdbId</th>\n",
       "      <th>releaseYear_y</th>\n",
       "      <th>list_plataform</th>\n",
       "    </tr>\n",
       "  </thead>\n",
       "  <tbody>\n",
       "    <tr>\n",
       "      <th>0</th>\n",
       "      <td>The Godfather</td>\n",
       "      <td>1972</td>\n",
       "      <td>2h 55m</td>\n",
       "      <td>9.2</td>\n",
       "      <td>2.1M</td>\n",
       "      <td>4.39</td>\n",
       "      <td>1972.0</td>\n",
       "      <td>tt0068646</td>\n",
       "      <td>1972.0</td>\n",
       "      <td>['Prime Video', 'Netflix']</td>\n",
       "    </tr>\n",
       "    <tr>\n",
       "      <th>1</th>\n",
       "      <td>The Godfather Part II</td>\n",
       "      <td>1974</td>\n",
       "      <td>3h 22m</td>\n",
       "      <td>9.0</td>\n",
       "      <td>1.4M</td>\n",
       "      <td>3.92</td>\n",
       "      <td>1974.0</td>\n",
       "      <td>tt0071562</td>\n",
       "      <td>1974.0</td>\n",
       "      <td>['Prime Video']</td>\n",
       "    </tr>\n",
       "    <tr>\n",
       "      <th>2</th>\n",
       "      <td>The Lord of the Rings: The Return of the King</td>\n",
       "      <td>2003</td>\n",
       "      <td>3h 21m</td>\n",
       "      <td>9.0</td>\n",
       "      <td>2M</td>\n",
       "      <td>4.62</td>\n",
       "      <td>2003.0</td>\n",
       "      <td>tt0167260</td>\n",
       "      <td>2003.0</td>\n",
       "      <td>['Apple TV', 'Prime Video', 'Max']</td>\n",
       "    </tr>\n",
       "    <tr>\n",
       "      <th>3</th>\n",
       "      <td>The Lord of the Rings: The Fellowship of the Ring</td>\n",
       "      <td>2001</td>\n",
       "      <td>2h 58m</td>\n",
       "      <td>8.9</td>\n",
       "      <td>2.1M</td>\n",
       "      <td>4.65</td>\n",
       "      <td>2001.0</td>\n",
       "      <td>tt0120737</td>\n",
       "      <td>2001.0</td>\n",
       "      <td>['Prime Video', 'Apple TV', 'Max']</td>\n",
       "    </tr>\n",
       "    <tr>\n",
       "      <th>5</th>\n",
       "      <td>Forrest Gump</td>\n",
       "      <td>1994</td>\n",
       "      <td>2h 22m</td>\n",
       "      <td>8.8</td>\n",
       "      <td>2.3M</td>\n",
       "      <td>4.02</td>\n",
       "      <td>1994.0</td>\n",
       "      <td>tt0109830</td>\n",
       "      <td>1994.0</td>\n",
       "      <td>['Netflix', 'Prime Video']</td>\n",
       "    </tr>\n",
       "  </tbody>\n",
       "</table>\n",
       "</div>"
      ],
      "text/plain": [
       "                                               title  year duration  rating_x  \\\n",
       "0                                      The Godfather  1972   2h 55m       9.2   \n",
       "1                              The Godfather Part II  1974   3h 22m       9.0   \n",
       "2      The Lord of the Rings: The Return of the King  2003   3h 21m       9.0   \n",
       "3  The Lord of the Rings: The Fellowship of the Ring  2001   2h 58m       8.9   \n",
       "5                                       Forrest Gump  1994   2h 22m       8.8   \n",
       "\n",
       "   votes rating_y  releaseYear_x     imdbId  releaseYear_y  \\\n",
       "0   2.1M     4.39         1972.0  tt0068646         1972.0   \n",
       "1   1.4M     3.92         1974.0  tt0071562         1974.0   \n",
       "2     2M     4.62         2003.0  tt0167260         2003.0   \n",
       "3   2.1M     4.65         2001.0  tt0120737         2001.0   \n",
       "5   2.3M     4.02         1994.0  tt0109830         1994.0   \n",
       "\n",
       "                       list_plataform  \n",
       "0          ['Prime Video', 'Netflix']  \n",
       "1                     ['Prime Video']  \n",
       "2  ['Apple TV', 'Prime Video', 'Max']  \n",
       "3  ['Prime Video', 'Apple TV', 'Max']  \n",
       "5          ['Netflix', 'Prime Video']  "
      ]
     },
     "metadata": {},
     "output_type": "display_data"
    },
    {
     "data": {
      "text/plain": [
       "66"
      ]
     },
     "metadata": {},
     "output_type": "display_data"
    }
   ],
   "source": [
    "display(df_all_data_imdb.head())\n",
    "display(df_all_data_imdb.shape[0])"
   ]
  },
  {
   "cell_type": "code",
   "execution_count": 6,
   "metadata": {},
   "outputs": [
    {
     "name": "stdout",
     "output_type": "stream",
     "text": [
      "Conexión a la base de datos establecida con éxito.\n",
      "Tabla 'webs' creada con éxito.\n",
      "webs insertadas con éxito.\n",
      "Tabla 'peliculas' creada con éxito.\n",
      "Datos cargados con éxito en la tabla 'peliculas'.\n",
      "Tabla 'webs' creada con éxito.\n",
      "webs insertadas con éxito.\n",
      "Tabla 'peliculas' creada con éxito.\n",
      "Datos cargados con éxito en la tabla 'peliculas'.\n",
      "Conexión a la base de datos cerrada con éxito.\n"
     ]
    }
   ],
   "source": [
    "# Conectar a la base de datos\n",
    "conn, cursor = con.create_connection(user,password,host,port,database)\n",
    "\n",
    "df_filmaffinity = pd.read_csv(\"../data/all_data_filmaffinity.csv\", index_col = 0)\n",
    "df_filmaffinity[\"id_web\"] = 1\n",
    "\n",
    "cre.main(conn,cursor,df_filmaffinity)\n",
    "\n",
    "df_imdb = pd.read_csv(\"../data/all_data_imdb.csv\", index_col = 0)\n",
    "df_imdb[\"id_web\"] = 2\n",
    "\n",
    "cre.main(conn,cursor,df_imdb)\n",
    "\n",
    "# Cerrar la conexión\n",
    "con.close_connection(conn, cursor)"
   ]
  }
 ],
 "metadata": {
  "kernelspec": {
   "display_name": "entorno_develop",
   "language": "python",
   "name": "python3"
  },
  "language_info": {
   "codemirror_mode": {
    "name": "ipython",
    "version": 3
   },
   "file_extension": ".py",
   "mimetype": "text/x-python",
   "name": "python",
   "nbconvert_exporter": "python",
   "pygments_lexer": "ipython3",
   "version": "3.12.4"
  }
 },
 "nbformat": 4,
 "nbformat_minor": 2
}
