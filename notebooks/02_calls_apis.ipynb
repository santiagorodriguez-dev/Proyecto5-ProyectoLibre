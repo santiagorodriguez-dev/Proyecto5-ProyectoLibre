{
 "cells": [
  {
   "cell_type": "code",
   "execution_count": 1,
   "metadata": {},
   "outputs": [],
   "source": [
    "import pandas as pd # type: ignore\n",
    "\n",
    "import os\n",
    "from dotenv import load_dotenv # type: ignore\n",
    "load_dotenv()\n",
    "\n",
    "import sys\n",
    "sys.path.append(\"../\")\n",
    "from src import apis as api\n",
    "\n",
    "api_key = os.getenv(\"x-rapidapi-key\")"
   ]
  },
  {
   "cell_type": "code",
   "execution_count": null,
   "metadata": {},
   "outputs": [],
   "source": [
    "df = pd.read_csv(\"../data/peliculas_imdb.csv\", index_col = 0)\n",
    "url = \"https://streaming-availability.p.rapidapi.com/shows/search/title\"\n",
    "df_streaming = api.get_data_streaming(url,api_key,df)"
   ]
  },
  {
   "cell_type": "code",
   "execution_count": 8,
   "metadata": {},
   "outputs": [
    {
     "data": {
      "text/html": [
       "<div>\n",
       "<style scoped>\n",
       "    .dataframe tbody tr th:only-of-type {\n",
       "        vertical-align: middle;\n",
       "    }\n",
       "\n",
       "    .dataframe tbody tr th {\n",
       "        vertical-align: top;\n",
       "    }\n",
       "\n",
       "    .dataframe thead th {\n",
       "        text-align: right;\n",
       "    }\n",
       "</style>\n",
       "<table border=\"1\" class=\"dataframe\">\n",
       "  <thead>\n",
       "    <tr style=\"text-align: right;\">\n",
       "      <th></th>\n",
       "      <th>title</th>\n",
       "      <th>imdbId</th>\n",
       "      <th>releaseYear</th>\n",
       "      <th>list_plataform</th>\n",
       "    </tr>\n",
       "  </thead>\n",
       "  <tbody>\n",
       "    <tr>\n",
       "      <th>0</th>\n",
       "      <td>The Godfather</td>\n",
       "      <td>tt0068646</td>\n",
       "      <td>1972</td>\n",
       "      <td>[Prime Video, Netflix]</td>\n",
       "    </tr>\n",
       "    <tr>\n",
       "      <th>1</th>\n",
       "      <td>The Godfather Part II</td>\n",
       "      <td>tt0071562</td>\n",
       "      <td>1974</td>\n",
       "      <td>[Prime Video]</td>\n",
       "    </tr>\n",
       "    <tr>\n",
       "      <th>2</th>\n",
       "      <td>The Lord of the Rings: The Return of the King</td>\n",
       "      <td>tt0167260</td>\n",
       "      <td>2003</td>\n",
       "      <td>[Apple TV, Prime Video, Max]</td>\n",
       "    </tr>\n",
       "    <tr>\n",
       "      <th>3</th>\n",
       "      <td>The Lord of the Rings: The Fellowship of the Ring</td>\n",
       "      <td>tt0120737</td>\n",
       "      <td>2001</td>\n",
       "      <td>[Prime Video, Apple TV, Max]</td>\n",
       "    </tr>\n",
       "    <tr>\n",
       "      <th>4</th>\n",
       "      <td>Forrest Gump</td>\n",
       "      <td>tt0109830</td>\n",
       "      <td>1994</td>\n",
       "      <td>[Netflix, Prime Video]</td>\n",
       "    </tr>\n",
       "  </tbody>\n",
       "</table>\n",
       "</div>"
      ],
      "text/plain": [
       "                                               title     imdbId  releaseYear  \\\n",
       "0                                      The Godfather  tt0068646         1972   \n",
       "1                              The Godfather Part II  tt0071562         1974   \n",
       "2      The Lord of the Rings: The Return of the King  tt0167260         2003   \n",
       "3  The Lord of the Rings: The Fellowship of the Ring  tt0120737         2001   \n",
       "4                                       Forrest Gump  tt0109830         1994   \n",
       "\n",
       "                 list_plataform  \n",
       "0        [Prime Video, Netflix]  \n",
       "1                 [Prime Video]  \n",
       "2  [Apple TV, Prime Video, Max]  \n",
       "3  [Prime Video, Apple TV, Max]  \n",
       "4        [Netflix, Prime Video]  "
      ]
     },
     "metadata": {},
     "output_type": "display_data"
    },
    {
     "data": {
      "text/plain": [
       "63"
      ]
     },
     "metadata": {},
     "output_type": "display_data"
    }
   ],
   "source": [
    "display(df_streaming.head())\n",
    "display(df_streaming.shape[0])"
   ]
  },
  {
   "cell_type": "code",
   "execution_count": 7,
   "metadata": {},
   "outputs": [],
   "source": [
    "df_streaming.to_csv(f\"../data/streaming_peliculas_imdb.csv\")"
   ]
  },
  {
   "cell_type": "code",
   "execution_count": null,
   "metadata": {},
   "outputs": [],
   "source": [
    "url = \"https://hapi-books.p.rapidapi.com/search/\"\n",
    "title = \"The Lord of the Rings: The Return of the King\"\n",
    "title = title.replace(' ', '+')\n",
    "df_books = api.get_data_books(url,api_key,title)"
   ]
  },
  {
   "cell_type": "code",
   "execution_count": null,
   "metadata": {},
   "outputs": [],
   "source": [
    "display(df_books.head())\n",
    "display(df_books.shape[0])"
   ]
  }
 ],
 "metadata": {
  "kernelspec": {
   "display_name": "entorno_develop",
   "language": "python",
   "name": "python3"
  },
  "language_info": {
   "codemirror_mode": {
    "name": "ipython",
    "version": 3
   },
   "file_extension": ".py",
   "mimetype": "text/x-python",
   "name": "python",
   "nbconvert_exporter": "python",
   "pygments_lexer": "ipython3",
   "version": "3.12.4"
  }
 },
 "nbformat": 4,
 "nbformat_minor": 2
}
