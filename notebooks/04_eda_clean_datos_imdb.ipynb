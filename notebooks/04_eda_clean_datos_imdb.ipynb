{
 "cells": [
  {
   "cell_type": "code",
   "execution_count": 1,
   "metadata": {},
   "outputs": [],
   "source": [
    "import pandas as pd # type: ignore\n",
    "\n",
    "import sys\n",
    "sys.path.append(\"../\")\n",
    "from src import soporte_clean as sop"
   ]
  },
  {
   "cell_type": "code",
   "execution_count": 2,
   "metadata": {},
   "outputs": [],
   "source": [
    "df_peliculas_imdb = pd.read_csv(\"../data/peliculas_imdb.csv\", index_col = 0)\n",
    "df_books_imdb = pd.read_csv(\"../data/books_peliculas_imdb.csv\", index_col = 0)\n",
    "df_streaming_imdb = pd.read_csv(\"../data/streaming_peliculas_imdb.csv\", index_col = 0)"
   ]
  },
  {
   "cell_type": "code",
   "execution_count": 3,
   "metadata": {},
   "outputs": [],
   "source": [
    "df_all_imdb = sop.merge_dataframe(df_peliculas_imdb,df_books_imdb,df_streaming_imdb)"
   ]
  },
  {
   "cell_type": "code",
   "execution_count": 4,
   "metadata": {},
   "outputs": [
    {
     "data": {
      "text/html": [
       "<div>\n",
       "<style scoped>\n",
       "    .dataframe tbody tr th:only-of-type {\n",
       "        vertical-align: middle;\n",
       "    }\n",
       "\n",
       "    .dataframe tbody tr th {\n",
       "        vertical-align: top;\n",
       "    }\n",
       "\n",
       "    .dataframe thead th {\n",
       "        text-align: right;\n",
       "    }\n",
       "</style>\n",
       "<table border=\"1\" class=\"dataframe\">\n",
       "  <thead>\n",
       "    <tr style=\"text-align: right;\">\n",
       "      <th></th>\n",
       "      <th>title</th>\n",
       "      <th>year</th>\n",
       "      <th>duration</th>\n",
       "      <th>rating_x</th>\n",
       "      <th>votes</th>\n",
       "      <th>rating_y</th>\n",
       "      <th>releaseYear_x</th>\n",
       "      <th>imdbId</th>\n",
       "      <th>releaseYear_y</th>\n",
       "      <th>list_plataform</th>\n",
       "    </tr>\n",
       "  </thead>\n",
       "  <tbody>\n",
       "    <tr>\n",
       "      <th>0</th>\n",
       "      <td>The Godfather</td>\n",
       "      <td>1972</td>\n",
       "      <td>2h 55m</td>\n",
       "      <td>9.2</td>\n",
       "      <td>2.1M</td>\n",
       "      <td>4.39</td>\n",
       "      <td>1969</td>\n",
       "      <td>tt0068646</td>\n",
       "      <td>1972.0</td>\n",
       "      <td>['Prime Video', 'Netflix']</td>\n",
       "    </tr>\n",
       "    <tr>\n",
       "      <th>1</th>\n",
       "      <td>The Godfather Part II</td>\n",
       "      <td>1974</td>\n",
       "      <td>3h 22m</td>\n",
       "      <td>9.0</td>\n",
       "      <td>1.4M</td>\n",
       "      <td>3.92</td>\n",
       "      <td>unknown</td>\n",
       "      <td>tt0071562</td>\n",
       "      <td>1974.0</td>\n",
       "      <td>['Prime Video']</td>\n",
       "    </tr>\n",
       "    <tr>\n",
       "      <th>2</th>\n",
       "      <td>The Lord of the Rings: The Return of the King</td>\n",
       "      <td>2003</td>\n",
       "      <td>3h 21m</td>\n",
       "      <td>9.0</td>\n",
       "      <td>2M</td>\n",
       "      <td>4.62</td>\n",
       "      <td>2003</td>\n",
       "      <td>tt0167260</td>\n",
       "      <td>2003.0</td>\n",
       "      <td>['Apple TV', 'Prime Video', 'Max']</td>\n",
       "    </tr>\n",
       "    <tr>\n",
       "      <th>3</th>\n",
       "      <td>The Lord of the Rings: The Fellowship of the Ring</td>\n",
       "      <td>2001</td>\n",
       "      <td>2h 58m</td>\n",
       "      <td>8.9</td>\n",
       "      <td>2.1M</td>\n",
       "      <td>4.65</td>\n",
       "      <td>2001</td>\n",
       "      <td>tt0120737</td>\n",
       "      <td>2001.0</td>\n",
       "      <td>['Prime Video', 'Apple TV', 'Max']</td>\n",
       "    </tr>\n",
       "    <tr>\n",
       "      <th>4</th>\n",
       "      <td>The Lord of the Rings: The Fellowship of the Ring</td>\n",
       "      <td>2001</td>\n",
       "      <td>2h 58m</td>\n",
       "      <td>8.9</td>\n",
       "      <td>2.1M</td>\n",
       "      <td>4.65</td>\n",
       "      <td>2001</td>\n",
       "      <td>tt0120737</td>\n",
       "      <td>2001.0</td>\n",
       "      <td>['Prime Video', 'Apple TV', 'Max']</td>\n",
       "    </tr>\n",
       "  </tbody>\n",
       "</table>\n",
       "</div>"
      ],
      "text/plain": [
       "                                               title  year duration  rating_x  \\\n",
       "0                                      The Godfather  1972   2h 55m       9.2   \n",
       "1                              The Godfather Part II  1974   3h 22m       9.0   \n",
       "2      The Lord of the Rings: The Return of the King  2003   3h 21m       9.0   \n",
       "3  The Lord of the Rings: The Fellowship of the Ring  2001   2h 58m       8.9   \n",
       "4  The Lord of the Rings: The Fellowship of the Ring  2001   2h 58m       8.9   \n",
       "\n",
       "   votes rating_y releaseYear_x     imdbId  releaseYear_y  \\\n",
       "0   2.1M     4.39          1969  tt0068646         1972.0   \n",
       "1   1.4M     3.92       unknown  tt0071562         1974.0   \n",
       "2     2M     4.62          2003  tt0167260         2003.0   \n",
       "3   2.1M     4.65          2001  tt0120737         2001.0   \n",
       "4   2.1M     4.65          2001  tt0120737         2001.0   \n",
       "\n",
       "                       list_plataform  \n",
       "0          ['Prime Video', 'Netflix']  \n",
       "1                     ['Prime Video']  \n",
       "2  ['Apple TV', 'Prime Video', 'Max']  \n",
       "3  ['Prime Video', 'Apple TV', 'Max']  \n",
       "4  ['Prime Video', 'Apple TV', 'Max']  "
      ]
     },
     "metadata": {},
     "output_type": "display_data"
    },
    {
     "data": {
      "text/plain": [
       "67"
      ]
     },
     "metadata": {},
     "output_type": "display_data"
    }
   ],
   "source": [
    "display(df_all_imdb.head())\n",
    "display(df_all_imdb.shape[0])"
   ]
  },
  {
   "cell_type": "code",
   "execution_count": 5,
   "metadata": {},
   "outputs": [],
   "source": [
    "df_all_imdb[df_all_imdb.duplicated()]\n",
    "df_all_imdb.drop_duplicates(subset=\"title\", inplace=True)"
   ]
  },
  {
   "cell_type": "code",
   "execution_count": 6,
   "metadata": {},
   "outputs": [
    {
     "data": {
      "text/html": [
       "<div>\n",
       "<style scoped>\n",
       "    .dataframe tbody tr th:only-of-type {\n",
       "        vertical-align: middle;\n",
       "    }\n",
       "\n",
       "    .dataframe tbody tr th {\n",
       "        vertical-align: top;\n",
       "    }\n",
       "\n",
       "    .dataframe thead th {\n",
       "        text-align: right;\n",
       "    }\n",
       "</style>\n",
       "<table border=\"1\" class=\"dataframe\">\n",
       "  <thead>\n",
       "    <tr style=\"text-align: right;\">\n",
       "      <th></th>\n",
       "      <th>title</th>\n",
       "      <th>year</th>\n",
       "      <th>duration</th>\n",
       "      <th>rating_x</th>\n",
       "      <th>votes</th>\n",
       "      <th>rating_y</th>\n",
       "      <th>releaseYear_x</th>\n",
       "      <th>imdbId</th>\n",
       "      <th>releaseYear_y</th>\n",
       "      <th>list_plataform</th>\n",
       "    </tr>\n",
       "  </thead>\n",
       "  <tbody>\n",
       "    <tr>\n",
       "      <th>0</th>\n",
       "      <td>The Godfather</td>\n",
       "      <td>1972</td>\n",
       "      <td>2h 55m</td>\n",
       "      <td>9.2</td>\n",
       "      <td>2.1M</td>\n",
       "      <td>4.39</td>\n",
       "      <td>1969</td>\n",
       "      <td>tt0068646</td>\n",
       "      <td>1972.0</td>\n",
       "      <td>['Prime Video', 'Netflix']</td>\n",
       "    </tr>\n",
       "    <tr>\n",
       "      <th>1</th>\n",
       "      <td>The Godfather Part II</td>\n",
       "      <td>1974</td>\n",
       "      <td>3h 22m</td>\n",
       "      <td>9.0</td>\n",
       "      <td>1.4M</td>\n",
       "      <td>3.92</td>\n",
       "      <td>unknown</td>\n",
       "      <td>tt0071562</td>\n",
       "      <td>1974.0</td>\n",
       "      <td>['Prime Video']</td>\n",
       "    </tr>\n",
       "    <tr>\n",
       "      <th>2</th>\n",
       "      <td>The Lord of the Rings: The Return of the King</td>\n",
       "      <td>2003</td>\n",
       "      <td>3h 21m</td>\n",
       "      <td>9.0</td>\n",
       "      <td>2M</td>\n",
       "      <td>4.62</td>\n",
       "      <td>2003</td>\n",
       "      <td>tt0167260</td>\n",
       "      <td>2003.0</td>\n",
       "      <td>['Apple TV', 'Prime Video', 'Max']</td>\n",
       "    </tr>\n",
       "    <tr>\n",
       "      <th>3</th>\n",
       "      <td>The Lord of the Rings: The Fellowship of the Ring</td>\n",
       "      <td>2001</td>\n",
       "      <td>2h 58m</td>\n",
       "      <td>8.9</td>\n",
       "      <td>2.1M</td>\n",
       "      <td>4.65</td>\n",
       "      <td>2001</td>\n",
       "      <td>tt0120737</td>\n",
       "      <td>2001.0</td>\n",
       "      <td>['Prime Video', 'Apple TV', 'Max']</td>\n",
       "    </tr>\n",
       "    <tr>\n",
       "      <th>5</th>\n",
       "      <td>Forrest Gump</td>\n",
       "      <td>1994</td>\n",
       "      <td>2h 22m</td>\n",
       "      <td>8.8</td>\n",
       "      <td>2.3M</td>\n",
       "      <td>4.02</td>\n",
       "      <td>1986</td>\n",
       "      <td>tt0109830</td>\n",
       "      <td>1994.0</td>\n",
       "      <td>['Netflix', 'Prime Video']</td>\n",
       "    </tr>\n",
       "  </tbody>\n",
       "</table>\n",
       "</div>"
      ],
      "text/plain": [
       "                                               title  year duration  rating_x  \\\n",
       "0                                      The Godfather  1972   2h 55m       9.2   \n",
       "1                              The Godfather Part II  1974   3h 22m       9.0   \n",
       "2      The Lord of the Rings: The Return of the King  2003   3h 21m       9.0   \n",
       "3  The Lord of the Rings: The Fellowship of the Ring  2001   2h 58m       8.9   \n",
       "5                                       Forrest Gump  1994   2h 22m       8.8   \n",
       "\n",
       "   votes rating_y releaseYear_x     imdbId  releaseYear_y  \\\n",
       "0   2.1M     4.39          1969  tt0068646         1972.0   \n",
       "1   1.4M     3.92       unknown  tt0071562         1974.0   \n",
       "2     2M     4.62          2003  tt0167260         2003.0   \n",
       "3   2.1M     4.65          2001  tt0120737         2001.0   \n",
       "5   2.3M     4.02          1986  tt0109830         1994.0   \n",
       "\n",
       "                       list_plataform  \n",
       "0          ['Prime Video', 'Netflix']  \n",
       "1                     ['Prime Video']  \n",
       "2  ['Apple TV', 'Prime Video', 'Max']  \n",
       "3  ['Prime Video', 'Apple TV', 'Max']  \n",
       "5          ['Netflix', 'Prime Video']  "
      ]
     },
     "metadata": {},
     "output_type": "display_data"
    },
    {
     "data": {
      "text/plain": [
       "66"
      ]
     },
     "metadata": {},
     "output_type": "display_data"
    }
   ],
   "source": [
    "display(df_all_imdb.head())\n",
    "display(df_all_imdb.shape[0])"
   ]
  },
  {
   "cell_type": "code",
   "execution_count": 7,
   "metadata": {},
   "outputs": [
    {
     "data": {
      "text/plain": [
       "title              0\n",
       "year               0\n",
       "duration           0\n",
       "rating_x           0\n",
       "votes              0\n",
       "rating_y           0\n",
       "releaseYear_x      0\n",
       "imdbId            14\n",
       "releaseYear_y     14\n",
       "list_plataform    14\n",
       "dtype: int64"
      ]
     },
     "execution_count": 7,
     "metadata": {},
     "output_type": "execute_result"
    }
   ],
   "source": [
    "df_all_imdb.isna().sum()"
   ]
  },
  {
   "cell_type": "code",
   "execution_count": 8,
   "metadata": {},
   "outputs": [
    {
     "data": {
      "text/plain": [
       "title              0\n",
       "year               0\n",
       "duration           0\n",
       "rating_x           0\n",
       "votes              0\n",
       "rating_y           0\n",
       "releaseYear_x      0\n",
       "imdbId            14\n",
       "releaseYear_y     14\n",
       "list_plataform    14\n",
       "dtype: int64"
      ]
     },
     "execution_count": 8,
     "metadata": {},
     "output_type": "execute_result"
    }
   ],
   "source": [
    "df_all_imdb.isnull().sum()"
   ]
  },
  {
   "cell_type": "code",
   "execution_count": 9,
   "metadata": {},
   "outputs": [],
   "source": [
    "df_all_imdb = sop.clean_data(df_all_imdb)"
   ]
  },
  {
   "cell_type": "code",
   "execution_count": 10,
   "metadata": {},
   "outputs": [
    {
     "data": {
      "text/plain": [
       "title             0\n",
       "year              0\n",
       "duration          0\n",
       "rating_x          0\n",
       "votes             0\n",
       "rating_y          0\n",
       "releaseYear_x     0\n",
       "imdbId            0\n",
       "releaseYear_y     0\n",
       "list_plataform    0\n",
       "dtype: int64"
      ]
     },
     "execution_count": 10,
     "metadata": {},
     "output_type": "execute_result"
    }
   ],
   "source": [
    "df_all_imdb.isna().sum()"
   ]
  },
  {
   "cell_type": "code",
   "execution_count": 11,
   "metadata": {},
   "outputs": [
    {
     "data": {
      "text/plain": [
       "title             0\n",
       "year              0\n",
       "duration          0\n",
       "rating_x          0\n",
       "votes             0\n",
       "rating_y          0\n",
       "releaseYear_x     0\n",
       "imdbId            0\n",
       "releaseYear_y     0\n",
       "list_plataform    0\n",
       "dtype: int64"
      ]
     },
     "execution_count": 11,
     "metadata": {},
     "output_type": "execute_result"
    }
   ],
   "source": [
    "df_all_imdb.isnull().sum()"
   ]
  },
  {
   "cell_type": "code",
   "execution_count": 12,
   "metadata": {},
   "outputs": [],
   "source": [
    "df_all_imdb.to_csv(f\"../data/all_data_imdb.csv\")"
   ]
  }
 ],
 "metadata": {
  "kernelspec": {
   "display_name": "entorno_develop",
   "language": "python",
   "name": "python3"
  },
  "language_info": {
   "codemirror_mode": {
    "name": "ipython",
    "version": 3
   },
   "file_extension": ".py",
   "mimetype": "text/x-python",
   "name": "python",
   "nbconvert_exporter": "python",
   "pygments_lexer": "ipython3",
   "version": "3.12.4"
  }
 },
 "nbformat": 4,
 "nbformat_minor": 2
}
