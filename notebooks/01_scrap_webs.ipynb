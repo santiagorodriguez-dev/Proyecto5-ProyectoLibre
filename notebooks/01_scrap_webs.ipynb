{
 "cells": [
  {
   "cell_type": "code",
   "execution_count": 1,
   "metadata": {},
   "outputs": [],
   "source": [
    "import sys\n",
    "sys.path.append(\"../\")\n",
    "from src import scrap_webs as spc"
   ]
  },
  {
   "cell_type": "code",
   "execution_count": 4,
   "metadata": {},
   "outputs": [],
   "source": [
    "url_imdb = \"https://www.imdb.com/chart/top/?ref_=nv_mv_250&keywords=based-on-novel\"\n",
    "df_imdb = spc.sacar_datos_imdb(url_imdb)"
   ]
  },
  {
   "cell_type": "code",
   "execution_count": 5,
   "metadata": {},
   "outputs": [
    {
     "data": {
      "text/html": [
       "<div>\n",
       "<style scoped>\n",
       "    .dataframe tbody tr th:only-of-type {\n",
       "        vertical-align: middle;\n",
       "    }\n",
       "\n",
       "    .dataframe tbody tr th {\n",
       "        vertical-align: top;\n",
       "    }\n",
       "\n",
       "    .dataframe thead th {\n",
       "        text-align: right;\n",
       "    }\n",
       "</style>\n",
       "<table border=\"1\" class=\"dataframe\">\n",
       "  <thead>\n",
       "    <tr style=\"text-align: right;\">\n",
       "      <th></th>\n",
       "      <th>title</th>\n",
       "      <th>year</th>\n",
       "      <th>duration</th>\n",
       "      <th>rating</th>\n",
       "      <th>votes</th>\n",
       "    </tr>\n",
       "  </thead>\n",
       "  <tbody>\n",
       "    <tr>\n",
       "      <th>0</th>\n",
       "      <td>1. The Godfather</td>\n",
       "      <td>1972</td>\n",
       "      <td>2h 55m</td>\n",
       "      <td>9.2</td>\n",
       "      <td>2.1M</td>\n",
       "    </tr>\n",
       "    <tr>\n",
       "      <th>1</th>\n",
       "      <td>2. The Godfather Part II</td>\n",
       "      <td>1974</td>\n",
       "      <td>3h 22m</td>\n",
       "      <td>9.0</td>\n",
       "      <td>1.4M</td>\n",
       "    </tr>\n",
       "    <tr>\n",
       "      <th>2</th>\n",
       "      <td>3. The Lord of the Rings: The Return of the King</td>\n",
       "      <td>2003</td>\n",
       "      <td>3h 21m</td>\n",
       "      <td>9.0</td>\n",
       "      <td>2M</td>\n",
       "    </tr>\n",
       "    <tr>\n",
       "      <th>3</th>\n",
       "      <td>4. The Lord of the Rings: The Fellowship of th...</td>\n",
       "      <td>2001</td>\n",
       "      <td>2h 58m</td>\n",
       "      <td>8.9</td>\n",
       "      <td>2.1M</td>\n",
       "    </tr>\n",
       "    <tr>\n",
       "      <th>4</th>\n",
       "      <td>5. Forrest Gump</td>\n",
       "      <td>1994</td>\n",
       "      <td>2h 22m</td>\n",
       "      <td>8.8</td>\n",
       "      <td>2.3M</td>\n",
       "    </tr>\n",
       "  </tbody>\n",
       "</table>\n",
       "</div>"
      ],
      "text/plain": [
       "                                               title  year duration rating  \\\n",
       "0                                   1. The Godfather  1972   2h 55m    9.2   \n",
       "1                           2. The Godfather Part II  1974   3h 22m    9.0   \n",
       "2   3. The Lord of the Rings: The Return of the King  2003   3h 21m    9.0   \n",
       "3  4. The Lord of the Rings: The Fellowship of th...  2001   2h 58m    8.9   \n",
       "4                                    5. Forrest Gump  1994   2h 22m    8.8   \n",
       "\n",
       "   votes  \n",
       "0   2.1M  \n",
       "1   1.4M  \n",
       "2     2M  \n",
       "3   2.1M  \n",
       "4   2.3M  "
      ]
     },
     "metadata": {},
     "output_type": "display_data"
    },
    {
     "data": {
      "text/plain": [
       "66"
      ]
     },
     "metadata": {},
     "output_type": "display_data"
    }
   ],
   "source": [
    "display(df_imdb.head())\n",
    "display(df_imdb.shape[0])"
   ]
  },
  {
   "cell_type": "code",
   "execution_count": 2,
   "metadata": {},
   "outputs": [],
   "source": [
    "url_filmaffinity = \"https://www.filmaffinity.com/en/listtopmovies.php?list_id=360\"\n",
    "df_filmaffinity  = spc.sacar_datos_filmaffinity(url_filmaffinity)"
   ]
  },
  {
   "cell_type": "code",
   "execution_count": 3,
   "metadata": {},
   "outputs": [
    {
     "data": {
      "text/html": [
       "<div>\n",
       "<style scoped>\n",
       "    .dataframe tbody tr th:only-of-type {\n",
       "        vertical-align: middle;\n",
       "    }\n",
       "\n",
       "    .dataframe tbody tr th {\n",
       "        vertical-align: top;\n",
       "    }\n",
       "\n",
       "    .dataframe thead th {\n",
       "        text-align: right;\n",
       "    }\n",
       "</style>\n",
       "<table border=\"1\" class=\"dataframe\">\n",
       "  <thead>\n",
       "    <tr style=\"text-align: right;\">\n",
       "      <th></th>\n",
       "      <th>title</th>\n",
       "      <th>year</th>\n",
       "      <th>rating</th>\n",
       "    </tr>\n",
       "  </thead>\n",
       "  <tbody>\n",
       "    <tr>\n",
       "      <th>0</th>\n",
       "      <td>The Lord of the Rings: The Fellowship of the R...</td>\n",
       "      <td>2001</td>\n",
       "      <td>8.0</td>\n",
       "    </tr>\n",
       "    <tr>\n",
       "      <th>1</th>\n",
       "      <td>The Lord of the Rings: The Return of the KingT...</td>\n",
       "      <td>2003</td>\n",
       "      <td>8.2</td>\n",
       "    </tr>\n",
       "    <tr>\n",
       "      <th>2</th>\n",
       "      <td>The Lord of the Rings: The Two TowersThe Lord ...</td>\n",
       "      <td>2002</td>\n",
       "      <td>8.0</td>\n",
       "    </tr>\n",
       "    <tr>\n",
       "      <th>3</th>\n",
       "      <td>The GodfatherThe Godfather</td>\n",
       "      <td>1972</td>\n",
       "      <td>9.0</td>\n",
       "    </tr>\n",
       "    <tr>\n",
       "      <th>4</th>\n",
       "      <td>The Name of the RoseThe Name of the Rose</td>\n",
       "      <td>1986</td>\n",
       "      <td>7.8</td>\n",
       "    </tr>\n",
       "  </tbody>\n",
       "</table>\n",
       "</div>"
      ],
      "text/plain": [
       "                                               title  year rating\n",
       "0  The Lord of the Rings: The Fellowship of the R...  2001    8.0\n",
       "1  The Lord of the Rings: The Return of the KingT...  2003    8.2\n",
       "2  The Lord of the Rings: The Two TowersThe Lord ...  2002    8.0\n",
       "3                         The GodfatherThe Godfather  1972    9.0\n",
       "4           The Name of the RoseThe Name of the Rose  1986    7.8"
      ]
     },
     "metadata": {},
     "output_type": "display_data"
    },
    {
     "data": {
      "text/plain": [
       "100"
      ]
     },
     "metadata": {},
     "output_type": "display_data"
    }
   ],
   "source": [
    "display(df_filmaffinity.head())\n",
    "display(df_filmaffinity.shape[0])"
   ]
  }
 ],
 "metadata": {
  "kernelspec": {
   "display_name": "entorno_develop",
   "language": "python",
   "name": "python3"
  },
  "language_info": {
   "codemirror_mode": {
    "name": "ipython",
    "version": 3
   },
   "file_extension": ".py",
   "mimetype": "text/x-python",
   "name": "python",
   "nbconvert_exporter": "python",
   "pygments_lexer": "ipython3",
   "version": "3.12.4"
  }
 },
 "nbformat": 4,
 "nbformat_minor": 2
}
