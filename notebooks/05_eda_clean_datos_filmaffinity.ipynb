{
 "cells": [
  {
   "cell_type": "code",
   "execution_count": 1,
   "metadata": {},
   "outputs": [],
   "source": [
    "import pandas as pd # type: ignore\n",
    "\n",
    "import sys\n",
    "sys.path.append(\"../\")\n",
    "from src import soporte_clean as sop"
   ]
  },
  {
   "cell_type": "code",
   "execution_count": 2,
   "metadata": {},
   "outputs": [],
   "source": [
    "df_peliculas_filmaffinity = pd.read_csv(\"../data/peliculas_filmaffinity.csv\", index_col = 0)\n",
    "df_books_filmaffinity = pd.read_csv(\"../data/books_peliculas_filmaffinity.csv\", index_col = 0)\n",
    "df_streaming_filmaffinity = pd.read_csv(\"../data/streaming_peliculas_filmaffinity.csv\", index_col = 0)"
   ]
  },
  {
   "cell_type": "code",
   "execution_count": 3,
   "metadata": {},
   "outputs": [],
   "source": [
    "df_all_filmaffinity = sop.merge_dataframe(df_peliculas_filmaffinity,df_books_filmaffinity,df_streaming_filmaffinity)"
   ]
  },
  {
   "cell_type": "code",
   "execution_count": 4,
   "metadata": {},
   "outputs": [
    {
     "data": {
      "text/html": [
       "<div>\n",
       "<style scoped>\n",
       "    .dataframe tbody tr th:only-of-type {\n",
       "        vertical-align: middle;\n",
       "    }\n",
       "\n",
       "    .dataframe tbody tr th {\n",
       "        vertical-align: top;\n",
       "    }\n",
       "\n",
       "    .dataframe thead th {\n",
       "        text-align: right;\n",
       "    }\n",
       "</style>\n",
       "<table border=\"1\" class=\"dataframe\">\n",
       "  <thead>\n",
       "    <tr style=\"text-align: right;\">\n",
       "      <th></th>\n",
       "      <th>title</th>\n",
       "      <th>year</th>\n",
       "      <th>rating_x</th>\n",
       "      <th>rating_y</th>\n",
       "      <th>releaseYear_x</th>\n",
       "      <th>imdbId</th>\n",
       "      <th>releaseYear_y</th>\n",
       "      <th>list_plataform</th>\n",
       "    </tr>\n",
       "  </thead>\n",
       "  <tbody>\n",
       "    <tr>\n",
       "      <th>0</th>\n",
       "      <td>The Godfather</td>\n",
       "      <td>1972</td>\n",
       "      <td>9.0</td>\n",
       "      <td>4.39</td>\n",
       "      <td>1969</td>\n",
       "      <td>tt0068646</td>\n",
       "      <td>1972.0</td>\n",
       "      <td>['Prime Video', 'Netflix']</td>\n",
       "    </tr>\n",
       "    <tr>\n",
       "      <th>1</th>\n",
       "      <td>The Godfather: Part II</td>\n",
       "      <td>1974</td>\n",
       "      <td>8.9</td>\n",
       "      <td>3.92</td>\n",
       "      <td>unknown</td>\n",
       "      <td>NaN</td>\n",
       "      <td>NaN</td>\n",
       "      <td>NaN</td>\n",
       "    </tr>\n",
       "    <tr>\n",
       "      <th>2</th>\n",
       "      <td>The Shawshank Redemption</td>\n",
       "      <td>1994</td>\n",
       "      <td>8.6</td>\n",
       "      <td>4.48</td>\n",
       "      <td>unknown</td>\n",
       "      <td>tt0111161</td>\n",
       "      <td>1994.0</td>\n",
       "      <td>['Netflix']</td>\n",
       "    </tr>\n",
       "    <tr>\n",
       "      <th>3</th>\n",
       "      <td>Witness for the Prosecution</td>\n",
       "      <td>1957</td>\n",
       "      <td>8.6</td>\n",
       "      <td>4.07</td>\n",
       "      <td>1995</td>\n",
       "      <td>tt0051201</td>\n",
       "      <td>1957.0</td>\n",
       "      <td>['Apple TV']</td>\n",
       "    </tr>\n",
       "    <tr>\n",
       "      <th>4</th>\n",
       "      <td>Schindler's List</td>\n",
       "      <td>1993</td>\n",
       "      <td>8.6</td>\n",
       "      <td>4.34</td>\n",
       "      <td>1982</td>\n",
       "      <td>tt0108052</td>\n",
       "      <td>1993.0</td>\n",
       "      <td>['Apple TV', 'Netflix']</td>\n",
       "    </tr>\n",
       "  </tbody>\n",
       "</table>\n",
       "</div>"
      ],
      "text/plain": [
       "                         title  year  rating_x rating_y releaseYear_x  \\\n",
       "0                The Godfather  1972       9.0     4.39          1969   \n",
       "1       The Godfather: Part II  1974       8.9     3.92       unknown   \n",
       "2     The Shawshank Redemption  1994       8.6     4.48       unknown   \n",
       "3  Witness for the Prosecution  1957       8.6     4.07          1995   \n",
       "4             Schindler's List  1993       8.6     4.34          1982   \n",
       "\n",
       "      imdbId  releaseYear_y              list_plataform  \n",
       "0  tt0068646         1972.0  ['Prime Video', 'Netflix']  \n",
       "1        NaN            NaN                         NaN  \n",
       "2  tt0111161         1994.0                 ['Netflix']  \n",
       "3  tt0051201         1957.0                ['Apple TV']  \n",
       "4  tt0108052         1993.0     ['Apple TV', 'Netflix']  "
      ]
     },
     "metadata": {},
     "output_type": "display_data"
    },
    {
     "data": {
      "text/plain": [
       "102"
      ]
     },
     "metadata": {},
     "output_type": "display_data"
    }
   ],
   "source": [
    "display(df_all_filmaffinity.head())\n",
    "display(df_all_filmaffinity.shape[0])"
   ]
  },
  {
   "cell_type": "code",
   "execution_count": 5,
   "metadata": {},
   "outputs": [],
   "source": [
    "df_all_filmaffinity[df_all_filmaffinity.duplicated()]\n",
    "df_all_filmaffinity.drop_duplicates(subset=\"title\", inplace=True)"
   ]
  },
  {
   "cell_type": "code",
   "execution_count": 6,
   "metadata": {},
   "outputs": [
    {
     "data": {
      "text/html": [
       "<div>\n",
       "<style scoped>\n",
       "    .dataframe tbody tr th:only-of-type {\n",
       "        vertical-align: middle;\n",
       "    }\n",
       "\n",
       "    .dataframe tbody tr th {\n",
       "        vertical-align: top;\n",
       "    }\n",
       "\n",
       "    .dataframe thead th {\n",
       "        text-align: right;\n",
       "    }\n",
       "</style>\n",
       "<table border=\"1\" class=\"dataframe\">\n",
       "  <thead>\n",
       "    <tr style=\"text-align: right;\">\n",
       "      <th></th>\n",
       "      <th>title</th>\n",
       "      <th>year</th>\n",
       "      <th>rating_x</th>\n",
       "      <th>rating_y</th>\n",
       "      <th>releaseYear_x</th>\n",
       "      <th>imdbId</th>\n",
       "      <th>releaseYear_y</th>\n",
       "      <th>list_plataform</th>\n",
       "    </tr>\n",
       "  </thead>\n",
       "  <tbody>\n",
       "    <tr>\n",
       "      <th>0</th>\n",
       "      <td>The Godfather</td>\n",
       "      <td>1972</td>\n",
       "      <td>9.0</td>\n",
       "      <td>4.39</td>\n",
       "      <td>1969</td>\n",
       "      <td>tt0068646</td>\n",
       "      <td>1972.0</td>\n",
       "      <td>['Prime Video', 'Netflix']</td>\n",
       "    </tr>\n",
       "    <tr>\n",
       "      <th>1</th>\n",
       "      <td>The Godfather: Part II</td>\n",
       "      <td>1974</td>\n",
       "      <td>8.9</td>\n",
       "      <td>3.92</td>\n",
       "      <td>unknown</td>\n",
       "      <td>NaN</td>\n",
       "      <td>NaN</td>\n",
       "      <td>NaN</td>\n",
       "    </tr>\n",
       "    <tr>\n",
       "      <th>2</th>\n",
       "      <td>The Shawshank Redemption</td>\n",
       "      <td>1994</td>\n",
       "      <td>8.6</td>\n",
       "      <td>4.48</td>\n",
       "      <td>unknown</td>\n",
       "      <td>tt0111161</td>\n",
       "      <td>1994.0</td>\n",
       "      <td>['Netflix']</td>\n",
       "    </tr>\n",
       "    <tr>\n",
       "      <th>3</th>\n",
       "      <td>Witness for the Prosecution</td>\n",
       "      <td>1957</td>\n",
       "      <td>8.6</td>\n",
       "      <td>4.07</td>\n",
       "      <td>1995</td>\n",
       "      <td>tt0051201</td>\n",
       "      <td>1957.0</td>\n",
       "      <td>['Apple TV']</td>\n",
       "    </tr>\n",
       "    <tr>\n",
       "      <th>4</th>\n",
       "      <td>Schindler's List</td>\n",
       "      <td>1993</td>\n",
       "      <td>8.6</td>\n",
       "      <td>4.34</td>\n",
       "      <td>1982</td>\n",
       "      <td>tt0108052</td>\n",
       "      <td>1993.0</td>\n",
       "      <td>['Apple TV', 'Netflix']</td>\n",
       "    </tr>\n",
       "  </tbody>\n",
       "</table>\n",
       "</div>"
      ],
      "text/plain": [
       "                         title  year  rating_x rating_y releaseYear_x  \\\n",
       "0                The Godfather  1972       9.0     4.39          1969   \n",
       "1       The Godfather: Part II  1974       8.9     3.92       unknown   \n",
       "2     The Shawshank Redemption  1994       8.6     4.48       unknown   \n",
       "3  Witness for the Prosecution  1957       8.6     4.07          1995   \n",
       "4             Schindler's List  1993       8.6     4.34          1982   \n",
       "\n",
       "      imdbId  releaseYear_y              list_plataform  \n",
       "0  tt0068646         1972.0  ['Prime Video', 'Netflix']  \n",
       "1        NaN            NaN                         NaN  \n",
       "2  tt0111161         1994.0                 ['Netflix']  \n",
       "3  tt0051201         1957.0                ['Apple TV']  \n",
       "4  tt0108052         1993.0     ['Apple TV', 'Netflix']  "
      ]
     },
     "metadata": {},
     "output_type": "display_data"
    },
    {
     "data": {
      "text/plain": [
       "99"
      ]
     },
     "metadata": {},
     "output_type": "display_data"
    }
   ],
   "source": [
    "display(df_all_filmaffinity.head())\n",
    "display(df_all_filmaffinity.shape[0])"
   ]
  },
  {
   "cell_type": "code",
   "execution_count": 7,
   "metadata": {},
   "outputs": [
    {
     "data": {
      "text/plain": [
       "title              0\n",
       "year               0\n",
       "rating_x           0\n",
       "rating_y           2\n",
       "releaseYear_x      2\n",
       "imdbId            22\n",
       "releaseYear_y     22\n",
       "list_plataform    22\n",
       "dtype: int64"
      ]
     },
     "execution_count": 7,
     "metadata": {},
     "output_type": "execute_result"
    }
   ],
   "source": [
    "df_all_filmaffinity.isna().sum()"
   ]
  },
  {
   "cell_type": "code",
   "execution_count": 8,
   "metadata": {},
   "outputs": [
    {
     "data": {
      "text/plain": [
       "title              0\n",
       "year               0\n",
       "rating_x           0\n",
       "rating_y           2\n",
       "releaseYear_x      2\n",
       "imdbId            22\n",
       "releaseYear_y     22\n",
       "list_plataform    22\n",
       "dtype: int64"
      ]
     },
     "execution_count": 8,
     "metadata": {},
     "output_type": "execute_result"
    }
   ],
   "source": [
    "df_all_filmaffinity.isnull().sum()"
   ]
  },
  {
   "cell_type": "code",
   "execution_count": 9,
   "metadata": {},
   "outputs": [],
   "source": [
    "df_all_filmaffinity = sop.clean_data(df_all_filmaffinity)"
   ]
  },
  {
   "cell_type": "code",
   "execution_count": 10,
   "metadata": {},
   "outputs": [
    {
     "data": {
      "text/plain": [
       "title             0\n",
       "year              0\n",
       "rating_x          0\n",
       "rating_y          0\n",
       "releaseYear_x     0\n",
       "imdbId            0\n",
       "releaseYear_y     0\n",
       "list_plataform    0\n",
       "dtype: int64"
      ]
     },
     "execution_count": 10,
     "metadata": {},
     "output_type": "execute_result"
    }
   ],
   "source": [
    "df_all_filmaffinity.isna().sum()"
   ]
  },
  {
   "cell_type": "code",
   "execution_count": 11,
   "metadata": {},
   "outputs": [
    {
     "data": {
      "text/plain": [
       "title             0\n",
       "year              0\n",
       "rating_x          0\n",
       "rating_y          0\n",
       "releaseYear_x     0\n",
       "imdbId            0\n",
       "releaseYear_y     0\n",
       "list_plataform    0\n",
       "dtype: int64"
      ]
     },
     "execution_count": 11,
     "metadata": {},
     "output_type": "execute_result"
    }
   ],
   "source": [
    "df_all_filmaffinity.isnull().sum()"
   ]
  },
  {
   "cell_type": "code",
   "execution_count": 12,
   "metadata": {},
   "outputs": [],
   "source": [
    "df_all_filmaffinity.to_csv(f\"../data/all_data_filmaffinity.csv\")"
   ]
  }
 ],
 "metadata": {
  "kernelspec": {
   "display_name": "entorno_develop",
   "language": "python",
   "name": "python3"
  },
  "language_info": {
   "codemirror_mode": {
    "name": "ipython",
    "version": 3
   },
   "file_extension": ".py",
   "mimetype": "text/x-python",
   "name": "python",
   "nbconvert_exporter": "python",
   "pygments_lexer": "ipython3",
   "version": "3.12.4"
  }
 },
 "nbformat": 4,
 "nbformat_minor": 2
}
