{
 "cells": [
  {
   "cell_type": "code",
   "execution_count": 1,
   "metadata": {},
   "outputs": [
    {
     "data": {
      "text/plain": [
       "True"
      ]
     },
     "execution_count": 1,
     "metadata": {},
     "output_type": "execute_result"
    }
   ],
   "source": [
    "import pandas as pd # type: ignore\n",
    "import os\n",
    "import psycopg2 # type: ignore\n",
    "from dotenv import load_dotenv # type: ignore\n",
    "\n",
    "import sys\n",
    "sys.path.append(\"../\")\n",
    "from src import conexion_bd as con\n",
    "from src import consultas_sql as sel\n",
    "\n",
    "load_dotenv()"
   ]
  },
  {
   "cell_type": "code",
   "execution_count": 2,
   "metadata": {},
   "outputs": [],
   "source": [
    "user = os.getenv(\"DB_USER\")\n",
    "password = os.getenv(\"DB_PASSWORD\")\n",
    "host = os.getenv(\"DB_HOST\")\n",
    "port = os.getenv(\"DB_PORT\")\n",
    "database = os.getenv(\"DB_NAME\")"
   ]
  },
  {
   "cell_type": "code",
   "execution_count": 3,
   "metadata": {},
   "outputs": [
    {
     "name": "stdout",
     "output_type": "stream",
     "text": [
      "Conexión a la base de datos establecida con éxito.\n",
      "Conexión a la base de datos cerrada con éxito.\n",
      "Conexión a la base de datos establecida con éxito.\n",
      "Conexión a la base de datos cerrada con éxito.\n"
     ]
    }
   ],
   "source": [
    "# Conectar a la base de datos\n",
    "conn, cursor = con.create_connection(user,password,host,port,database)\n",
    "\n",
    "id = 1\n",
    "df_data_filmaffinity = sel.select_data(conn,cursor,id)\n",
    "\n",
    "# Cerrar la conexión\n",
    "con.close_connection(conn, cursor)\n",
    "\n",
    "conn, cursor = con.create_connection(user,password,host,port,database)\n",
    "\n",
    "id = 2\n",
    "df_data_imdb = sel.select_data(conn,cursor,id)\n",
    "\n",
    "# Cerrar la conexión\n",
    "con.close_connection(conn, cursor)"
   ]
  },
  {
   "cell_type": "code",
   "execution_count": 4,
   "metadata": {},
   "outputs": [],
   "source": [
    "df_data_filmaffinity['rating_libro'] = df_data_filmaffinity['rating_libro'].str.extract(r'(\\d+\\.\\d+)').astype(float)\n",
    "df_data_imdb['rating_libro'] = df_data_imdb['rating_libro'].str.extract(r'(\\d+\\.\\d+)').astype(float)"
   ]
  },
  {
   "cell_type": "code",
   "execution_count": 5,
   "metadata": {},
   "outputs": [
    {
     "data": {
      "text/html": [
       "<div>\n",
       "<style scoped>\n",
       "    .dataframe tbody tr th:only-of-type {\n",
       "        vertical-align: middle;\n",
       "    }\n",
       "\n",
       "    .dataframe tbody tr th {\n",
       "        vertical-align: top;\n",
       "    }\n",
       "\n",
       "    .dataframe thead th {\n",
       "        text-align: right;\n",
       "    }\n",
       "</style>\n",
       "<table border=\"1\" class=\"dataframe\">\n",
       "  <thead>\n",
       "    <tr style=\"text-align: right;\">\n",
       "      <th></th>\n",
       "      <th>id</th>\n",
       "      <th>nombre</th>\n",
       "      <th>id</th>\n",
       "      <th>title</th>\n",
       "      <th>rating_video</th>\n",
       "      <th>rating_libro</th>\n",
       "      <th>numero_plataformas</th>\n",
       "      <th>id_web</th>\n",
       "    </tr>\n",
       "  </thead>\n",
       "  <tbody>\n",
       "    <tr>\n",
       "      <th>0</th>\n",
       "      <td>1</td>\n",
       "      <td>filmaffinity</td>\n",
       "      <td>1</td>\n",
       "      <td>The Godfather</td>\n",
       "      <td>9.0</td>\n",
       "      <td>4.39</td>\n",
       "      <td>2</td>\n",
       "      <td>1</td>\n",
       "    </tr>\n",
       "    <tr>\n",
       "      <th>1</th>\n",
       "      <td>1</td>\n",
       "      <td>filmaffinity</td>\n",
       "      <td>2</td>\n",
       "      <td>The Godfather: Part II</td>\n",
       "      <td>8.9</td>\n",
       "      <td>3.92</td>\n",
       "      <td>0</td>\n",
       "      <td>1</td>\n",
       "    </tr>\n",
       "    <tr>\n",
       "      <th>2</th>\n",
       "      <td>1</td>\n",
       "      <td>filmaffinity</td>\n",
       "      <td>3</td>\n",
       "      <td>The Shawshank Redemption</td>\n",
       "      <td>8.6</td>\n",
       "      <td>4.48</td>\n",
       "      <td>1</td>\n",
       "      <td>1</td>\n",
       "    </tr>\n",
       "    <tr>\n",
       "      <th>3</th>\n",
       "      <td>1</td>\n",
       "      <td>filmaffinity</td>\n",
       "      <td>4</td>\n",
       "      <td>Witness for the Prosecution</td>\n",
       "      <td>8.6</td>\n",
       "      <td>4.07</td>\n",
       "      <td>1</td>\n",
       "      <td>1</td>\n",
       "    </tr>\n",
       "    <tr>\n",
       "      <th>4</th>\n",
       "      <td>1</td>\n",
       "      <td>filmaffinity</td>\n",
       "      <td>5</td>\n",
       "      <td>Schindler's List</td>\n",
       "      <td>8.6</td>\n",
       "      <td>4.34</td>\n",
       "      <td>2</td>\n",
       "      <td>1</td>\n",
       "    </tr>\n",
       "  </tbody>\n",
       "</table>\n",
       "</div>"
      ],
      "text/plain": [
       "   id        nombre  id                        title rating_video  \\\n",
       "0   1  filmaffinity   1                The Godfather          9.0   \n",
       "1   1  filmaffinity   2       The Godfather: Part II          8.9   \n",
       "2   1  filmaffinity   3     The Shawshank Redemption          8.6   \n",
       "3   1  filmaffinity   4  Witness for the Prosecution          8.6   \n",
       "4   1  filmaffinity   5             Schindler's List          8.6   \n",
       "\n",
       "   rating_libro  numero_plataformas  id_web  \n",
       "0          4.39                   2       1  \n",
       "1          3.92                   0       1  \n",
       "2          4.48                   1       1  \n",
       "3          4.07                   1       1  \n",
       "4          4.34                   2       1  "
      ]
     },
     "metadata": {},
     "output_type": "display_data"
    },
    {
     "data": {
      "text/plain": [
       "99"
      ]
     },
     "metadata": {},
     "output_type": "display_data"
    }
   ],
   "source": [
    "display(df_data_filmaffinity.head())\n",
    "display(df_data_filmaffinity.shape[0])"
   ]
  },
  {
   "cell_type": "code",
   "execution_count": 6,
   "metadata": {},
   "outputs": [
    {
     "data": {
      "text/html": [
       "<div>\n",
       "<style scoped>\n",
       "    .dataframe tbody tr th:only-of-type {\n",
       "        vertical-align: middle;\n",
       "    }\n",
       "\n",
       "    .dataframe tbody tr th {\n",
       "        vertical-align: top;\n",
       "    }\n",
       "\n",
       "    .dataframe thead th {\n",
       "        text-align: right;\n",
       "    }\n",
       "</style>\n",
       "<table border=\"1\" class=\"dataframe\">\n",
       "  <thead>\n",
       "    <tr style=\"text-align: right;\">\n",
       "      <th></th>\n",
       "      <th>id</th>\n",
       "      <th>nombre</th>\n",
       "      <th>id</th>\n",
       "      <th>title</th>\n",
       "      <th>rating_video</th>\n",
       "      <th>rating_libro</th>\n",
       "      <th>numero_plataformas</th>\n",
       "      <th>id_web</th>\n",
       "    </tr>\n",
       "  </thead>\n",
       "  <tbody>\n",
       "    <tr>\n",
       "      <th>0</th>\n",
       "      <td>2</td>\n",
       "      <td>imdb</td>\n",
       "      <td>100</td>\n",
       "      <td>The Godfather</td>\n",
       "      <td>9.2</td>\n",
       "      <td>4.39</td>\n",
       "      <td>2</td>\n",
       "      <td>2</td>\n",
       "    </tr>\n",
       "    <tr>\n",
       "      <th>1</th>\n",
       "      <td>2</td>\n",
       "      <td>imdb</td>\n",
       "      <td>101</td>\n",
       "      <td>The Godfather Part II</td>\n",
       "      <td>9.0</td>\n",
       "      <td>3.92</td>\n",
       "      <td>1</td>\n",
       "      <td>2</td>\n",
       "    </tr>\n",
       "    <tr>\n",
       "      <th>2</th>\n",
       "      <td>2</td>\n",
       "      <td>imdb</td>\n",
       "      <td>102</td>\n",
       "      <td>The Lord of the Rings: The Return of the King</td>\n",
       "      <td>9.0</td>\n",
       "      <td>4.62</td>\n",
       "      <td>3</td>\n",
       "      <td>2</td>\n",
       "    </tr>\n",
       "    <tr>\n",
       "      <th>3</th>\n",
       "      <td>2</td>\n",
       "      <td>imdb</td>\n",
       "      <td>103</td>\n",
       "      <td>The Lord of the Rings: The Fellowship of the Ring</td>\n",
       "      <td>8.9</td>\n",
       "      <td>4.65</td>\n",
       "      <td>3</td>\n",
       "      <td>2</td>\n",
       "    </tr>\n",
       "    <tr>\n",
       "      <th>4</th>\n",
       "      <td>2</td>\n",
       "      <td>imdb</td>\n",
       "      <td>104</td>\n",
       "      <td>Forrest Gump</td>\n",
       "      <td>8.8</td>\n",
       "      <td>4.02</td>\n",
       "      <td>2</td>\n",
       "      <td>2</td>\n",
       "    </tr>\n",
       "  </tbody>\n",
       "</table>\n",
       "</div>"
      ],
      "text/plain": [
       "   id nombre   id                                              title  \\\n",
       "0   2   imdb  100                                      The Godfather   \n",
       "1   2   imdb  101                              The Godfather Part II   \n",
       "2   2   imdb  102      The Lord of the Rings: The Return of the King   \n",
       "3   2   imdb  103  The Lord of the Rings: The Fellowship of the Ring   \n",
       "4   2   imdb  104                                       Forrest Gump   \n",
       "\n",
       "  rating_video  rating_libro  numero_plataformas  id_web  \n",
       "0          9.2          4.39                   2       2  \n",
       "1          9.0          3.92                   1       2  \n",
       "2          9.0          4.62                   3       2  \n",
       "3          8.9          4.65                   3       2  \n",
       "4          8.8          4.02                   2       2  "
      ]
     },
     "metadata": {},
     "output_type": "display_data"
    },
    {
     "data": {
      "text/plain": [
       "66"
      ]
     },
     "metadata": {},
     "output_type": "display_data"
    }
   ],
   "source": [
    "display(df_data_imdb.head())\n",
    "display(df_data_imdb.shape[0])"
   ]
  }
 ],
 "metadata": {
  "kernelspec": {
   "display_name": "entorno_develop",
   "language": "python",
   "name": "python3"
  },
  "language_info": {
   "codemirror_mode": {
    "name": "ipython",
    "version": 3
   },
   "file_extension": ".py",
   "mimetype": "text/x-python",
   "name": "python",
   "nbconvert_exporter": "python",
   "pygments_lexer": "ipython3",
   "version": "3.12.4"
  }
 },
 "nbformat": 4,
 "nbformat_minor": 2
}
